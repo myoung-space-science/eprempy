{
 "cells": [
  {
   "cell_type": "markdown",
   "metadata": {},
   "source": [
    "Before getting started in earnest with `eprempy`, one simple task you can perform to make sure everything is installed is to print the version number."
   ]
  },
  {
   "cell_type": "code",
   "execution_count": 31,
   "metadata": {},
   "outputs": [
    {
     "name": "stdout",
     "output_type": "stream",
     "text": [
      "Using version 0.1.3 of eprempy 😊\n"
     ]
    }
   ],
   "source": [
    "import eprempy\n",
    "print(f\"Using version {eprempy.__version__} of eprempy {chr(0x1f60a)}\")"
   ]
  },
  {
   "cell_type": "markdown",
   "metadata": {},
   "source": [
    "### Creating an observer\n",
    "\n",
    "The examples below assume a working knowledge of [EPREM](https://github.com/myoung-space-science/eprem) &mdash; essentially, they assume that you have successfully run EPREM and have access to both the runtime configuration file and the output files."
   ]
  },
  {
   "cell_type": "markdown",
   "metadata": {},
   "source": [
    "Most `eprempy` applications will begin by creating one or more observers. EPREM stores output in the form of \"stream observers\", with each observer file representing a set of connected simulation nodes. An observer file name has the form `obsNNNNNN.nc` or `fluxNNNNNN.nc`, where `NNNNNN` is the zero-padded number of the EPREM node-stream, and the letters `obs` or `flux` indicate whether the corresponding data contains the full particle distribution or pre-computed flux.\n",
    "\n",
    "To create an observer, the user must provide the observer ID, which is simply the EPREM stream number in the case of a stream observer. There are two additional attributes that are necessary for uniquely specifying an observer: the path to the directory containing the EPREM output and the path to the EPREM configuration file. When working within the directory containing EPREM output and the configuration file, the `eprem.Observer` class will automatically detect the appropriate observer file and will search for a configuration file with a name matching a known pattern. However, you may always specify the data directory via `source` and the name of the configuration file via `config`. Either path may be relative to the current directory and may contain the `~` alias; the `config` path may also be relative to the `source` path."
   ]
  },
  {
   "cell_type": "code",
   "execution_count": 32,
   "metadata": {},
   "outputs": [
    {
     "data": {
      "text/plain": [
       "Observer(4)"
      ]
     },
     "execution_count": 32,
     "metadata": {},
     "output_type": "execute_result"
    }
   ],
   "source": [
    "from eprempy import eprem\n",
    "\n",
    "stream = eprem.stream(4, source='data/with-dist/')\n",
    "stream"
   ]
  },
  {
   "cell_type": "markdown",
   "metadata": {},
   "source": [
    "Each observer knows the location of its data file, as well as the runtime configuration file used to create the data."
   ]
  },
  {
   "cell_type": "code",
   "execution_count": 33,
   "metadata": {},
   "outputs": [
    {
     "name": "stdout",
     "output_type": "stream",
     "text": [
      "obs000004.nc\n",
      "eprem.cfg\n"
     ]
    }
   ],
   "source": [
    "print(stream.dataset.source.name)\n",
    "print(stream.config.source.name)"
   ]
  },
  {
   "cell_type": "markdown",
   "metadata": {},
   "source": [
    "We can request the value of simulation runtime parameters by aliased keyword. For example, let's check the assumed mean free path at 1 au. There are three possible ways we can refer to this parameter: 'lambda0', 'lamo', or 'lam0'."
   ]
  },
  {
   "cell_type": "code",
   "execution_count": 34,
   "metadata": {},
   "outputs": [
    {
     "name": "stdout",
     "output_type": "stream",
     "text": [
      "lambda0 = Variable([1.], unit='au')\n",
      "lamo = Variable([1.], unit='au')\n",
      "lam0 = Variable([1.], unit='au')\n"
     ]
    }
   ],
   "source": [
    "for key in ('lambda0', 'lamo', 'lam0'):\n",
    "    print(f\"{key} = {stream[key]!r}\")"
   ]
  },
  {
   "cell_type": "markdown",
   "metadata": {},
   "source": [
    "We can also request an array-like observable quantity by one of its aliases. "
   ]
  },
  {
   "cell_type": "code",
   "execution_count": 35,
   "metadata": {},
   "outputs": [
    {
     "name": "stdout",
     "output_type": "stream",
     "text": [
      "Vr = Quantity(unit='m s^-1', dimensions={'time', 'shell'})\n",
      "vr = Quantity(unit='m s^-1', dimensions={'time', 'shell'})\n",
      "Ur = Quantity(unit='m s^-1', dimensions={'time', 'shell'})\n",
      "ur = Quantity(unit='m s^-1', dimensions={'time', 'shell'})\n"
     ]
    }
   ],
   "source": [
    "for alias in ('Vr', 'vr', 'Ur', 'ur'):\n",
    "    print(f\"{alias} = {stream[alias]!r}\")"
   ]
  },
  {
   "cell_type": "markdown",
   "metadata": {},
   "source": [
    "As show above, each observable quantity knows its metric unit and array dimensions. Dimension names have the same meaning as in the raw EPREM output."
   ]
  },
  {
   "cell_type": "markdown",
   "metadata": {},
   "source": [
    "It is possible to change an observable quantity's unit by calling its `withunit` method:"
   ]
  },
  {
   "cell_type": "code",
   "execution_count": 36,
   "metadata": {},
   "outputs": [
    {
     "name": "stdout",
     "output_type": "stream",
     "text": [
      "m s^-1\n",
      "au d^-1\n",
      "J^-1 s^-1 sr^-1 m^-2\n",
      "MeV^-1 s^-1 sr^-1 cm^-2\n"
     ]
    }
   ],
   "source": [
    "print(stream['vr'].unit)\n",
    "print(stream['vr'].withunit('au / day').unit)\n",
    "print(stream['flux'].unit)\n",
    "print(stream['flux'].withunit('1 / (cm^2 s sr MeV)').unit)"
   ]
  },
  {
   "cell_type": "markdown",
   "metadata": {},
   "source": [
    "An observable quantity supports subscription by standard index types or by \"measurable\" indices. An index is measurable if it contains one or more numeric values followed by a unit-like string."
   ]
  },
  {
   "cell_type": "markdown",
   "metadata": {},
   "source": [
    "This is best illustrated by a concrete example. Let's first pick a particular time in hours and radius in au"
   ]
  },
  {
   "cell_type": "code",
   "execution_count": 37,
   "metadata": {},
   "outputs": [
    {
     "name": "stdout",
     "output_type": "stream",
     "text": [
      "time:\n",
      "[67.2],\n",
      "unit='h',\n",
      "dimensions={'time'}\n",
      "\n",
      "radius:\n",
      "[[1.27798576]],\n",
      "unit='au',\n",
      "dimensions={'time', 'shell'}\n"
     ]
    }
   ],
   "source": [
    "time = stream['time'].withunit('hour')\n",
    "print(f\"time:\\n{time[27]}\\n\")\n",
    "radius = stream['radius'].withunit('au')\n",
    "print(f\"radius:\\n{radius[27, 57]}\")"
   ]
  },
  {
   "cell_type": "markdown",
   "metadata": {},
   "source": [
    "Next, we'll retrieve the observable quantity representing plasma density."
   ]
  },
  {
   "cell_type": "code",
   "execution_count": 38,
   "metadata": {},
   "outputs": [
    {
     "name": "stdout",
     "output_type": "stream",
     "text": [
      "density at fixed time:\n",
      "[[20884873.80632916  5146864.60956498 21476487.84191666]],\n",
      "unit='m^-3',\n",
      "dimensions={'time', 'shell'}\n",
      "\n",
      "density at fixed radius:\n",
      "[[ 5521952.49424706]\n",
      " [ 5146864.60956498]\n",
      " [18721643.43447628]],\n",
      "unit='m^-3',\n",
      "dimensions={'time', 'shell'}\n",
      "\n",
      "density at fixed time and radius:\n",
      "[[5146864.60956498]],\n",
      "unit='m^-3',\n",
      "dimensions={'time', 'shell'}\n"
     ]
    }
   ],
   "source": [
    "rho = stream['rho']\n",
    "print(f\"density at fixed time:\\n{rho[27, 56:59]}\\n\")\n",
    "print(f\"density at fixed radius:\\n{rho[26:29, 57]}\\n\")\n",
    "print(f\"density at fixed time and radius:\\n{rho[27, 57]}\")"
   ]
  },
  {
   "cell_type": "markdown",
   "metadata": {},
   "source": [
    "Finally, we'll create a measured index with value equivalent to our chosen time point and one equivalent to our chosen radius point. When we use the measured indices to subscript the density, we get a value very close to the value of density subscripted with standard indices."
   ]
  },
  {
   "cell_type": "code",
   "execution_count": 39,
   "metadata": {},
   "outputs": [
    {
     "name": "stdout",
     "output_type": "stream",
     "text": [
      "density at (t0, r0):\n",
      "[[5146864.35972748]],\n",
      "unit='m^-3',\n",
      "dimensions={'time', 'radius'}\n",
      "\n"
     ]
    }
   ],
   "source": [
    "t0 = 67.2, 'hour'\n",
    "r0 = 1.27798576, 'au'\n",
    "print(f\"density at (t0, r0):\\n{rho[t0, r0]}\\n\")"
   ]
  },
  {
   "cell_type": "markdown",
   "metadata": {},
   "source": [
    "Each observable quantity has a `plot` method."
   ]
  },
  {
   "cell_type": "code",
   "execution_count": 40,
   "metadata": {},
   "outputs": [
    {
     "data": {
      "image/png": "[encoded data removed]",
      "text/plain": [
       "<Figure size 640x480 with 1 Axes>"
      ]
     },
     "metadata": {},
     "output_type": "display_data"
    }
   ],
   "source": [
    "vr = stream['vr']\n",
    "r0 = 0.5, 'au'\n",
    "vr[:, r0].plot('k')"
   ]
  },
  {
   "cell_type": "markdown",
   "metadata": {},
   "source": [
    "This method is useful for quickly viewing a single quantity. More complex plots require explicit use of a plotting module such as `matplotlib.pyplot`. The following example creates a slightly more complex version of the above plot, and demonstrates use of the `format` method for metric units."
   ]
  },
  {
   "cell_type": "code",
   "execution_count": 41,
   "metadata": {},
   "outputs": [
    {
     "data": {
      "image/png": "[encoded data removed]",
      "text/plain": [
       "<Figure size 640x480 with 1 Axes>"
      ]
     },
     "metadata": {},
     "output_type": "display_data"
    }
   ],
   "source": [
    "import matplotlib.pyplot as plt\n",
    "for r in (0.1, 0.5, 1.0):\n",
    "    plt.plot(time, vr[:, (r, 'au')], label=f\"r = {r} au\")\n",
    "plt.legend()\n",
    "plt.xlabel(f\"Time [{time.unit}]\")\n",
    "plt.ylabel(rf\"$V_r$ [{vr.unit.format(style='tex')}]\")\n",
    "plt.tight_layout()"
   ]
  }
 ],
 "metadata": {
  "kernelspec": {
   "display_name": "eprempy",
   "language": "python",
   "name": "python3"
  },
  "language_info": {
   "codemirror_mode": {
    "name": "ipython",
    "version": 3
   },
   "file_extension": ".py",
   "mimetype": "text/x-python",
   "name": "python",
   "nbconvert_exporter": "python",
   "pygments_lexer": "ipython3",
   "version": "3.11.6"
  }
 },
 "nbformat": 4,
 "nbformat_minor": 2
}
