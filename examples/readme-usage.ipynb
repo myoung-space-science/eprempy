{
 "cells": [
  {
   "cell_type": "markdown",
   "metadata": {},
   "source": [
    "Before getting started in earnest with `eprempy`, one simple task you can perform to make sure everything is installed is to print the version number."
   ]
  },
  {
   "cell_type": "code",
   "execution_count": 1,
   "metadata": {},
   "outputs": [
    {
     "name": "stdout",
     "output_type": "stream",
     "text": [
      "Using version 0.1.4 of eprempy 😊\n"
     ]
    }
   ],
   "source": [
    "import eprempy\n",
    "print(f\"Using version {eprempy.__version__} of eprempy {chr(0x1f60a)}\")"
   ]
  },
  {
   "cell_type": "markdown",
   "metadata": {},
   "source": [
    "### Creating an observer\n",
    "\n",
    "The examples below assume a working knowledge of [EPREM](https://github.com/myoung-space-science/eprem) &mdash; essentially, they assume that you have successfully run EPREM and have access to both the runtime configuration file and the output files."
   ]
  },
  {
   "cell_type": "markdown",
   "metadata": {},
   "source": [
    "Most `eprempy` applications will begin by creating one or more observers. EPREM stores output in the form of \"stream observers\", with each observer file representing a set of connected simulation nodes. An observer file name has the form `obsNNNNNN.nc` or `fluxNNNNNN.nc`, where `NNNNNN` is the zero-padded number of the EPREM node-stream, and the letters `obs` or `flux` indicate whether the corresponding data contains the full particle distribution or pre-computed flux.\n",
    "\n",
    "To create an observer, the user must provide the observer ID, which is simply the EPREM stream number in the case of a stream observer. There are two additional attributes that are necessary for uniquely specifying an observer: the path to the directory containing the EPREM output and the path to the EPREM configuration file. When working within the directory containing EPREM output and the configuration file, the `eprem.Observer` class will automatically detect the appropriate observer file and will search for a configuration file with a name matching a known pattern. However, you may always specify the data directory via `source` and the name of the configuration file via `config`. Either path may be relative to the current directory and may contain the `~` alias; the `config` path may also be relative to the `source` path."
   ]
  },
  {
   "cell_type": "code",
   "execution_count": 2,
   "metadata": {},
   "outputs": [
    {
     "data": {
      "text/plain": [
       "Observer(4)"
      ]
     },
     "execution_count": 2,
     "metadata": {},
     "output_type": "execute_result"
    }
   ],
   "source": [
    "from eprempy import eprem\n",
    "\n",
    "stream = eprem.stream(4, source='data/with-dist/')\n",
    "stream"
   ]
  },
  {
   "cell_type": "markdown",
   "metadata": {},
   "source": [
    "Each observer knows the location of its data file, as well as the runtime configuration file used to create the data."
   ]
  },
  {
   "cell_type": "code",
   "execution_count": 3,
   "metadata": {},
   "outputs": [
    {
     "name": "stdout",
     "output_type": "stream",
     "text": [
      "obs000004.nc\n",
      "eprem.cfg\n"
     ]
    }
   ],
   "source": [
    "print(stream.dataset.source.name)\n",
    "print(stream.config.source.name)"
   ]
  },
  {
   "cell_type": "markdown",
   "metadata": {},
   "source": [
    "We can request the value of simulation runtime parameters by aliased keyword. For example, let's check the assumed mean free path at 1 au. There are three possible ways we can refer to this parameter: 'lambda0', 'lamo', or 'lam0'."
   ]
  },
  {
   "cell_type": "code",
   "execution_count": 4,
   "metadata": {},
   "outputs": [
    {
     "name": "stdout",
     "output_type": "stream",
     "text": [
      "lambda0 = Variable([1.], unit='au')\n",
      "lamo = Variable([1.], unit='au')\n",
      "lam0 = Variable([1.], unit='au')\n"
     ]
    }
   ],
   "source": [
    "for key in ('lambda0', 'lamo', 'lam0'):\n",
    "    print(f\"{key} = {stream[key]!r}\")"
   ]
  },
  {
   "cell_type": "markdown",
   "metadata": {},
   "source": [
    "We can also request an array-like observable quantity by one of its aliases. "
   ]
  },
  {
   "cell_type": "code",
   "execution_count": 5,
   "metadata": {},
   "outputs": [
    {
     "name": "stdout",
     "output_type": "stream",
     "text": [
      "Vr = Quantity(unit='m s^-1', dimensions={'time', 'shell'})\n",
      "vr = Quantity(unit='m s^-1', dimensions={'time', 'shell'})\n",
      "Ur = Quantity(unit='m s^-1', dimensions={'time', 'shell'})\n",
      "ur = Quantity(unit='m s^-1', dimensions={'time', 'shell'})\n"
     ]
    }
   ],
   "source": [
    "for alias in ('Vr', 'vr', 'Ur', 'ur'):\n",
    "    print(f\"{alias} = {stream[alias]!r}\")"
   ]
  },
  {
   "cell_type": "markdown",
   "metadata": {},
   "source": [
    "As show above, each observable quantity knows its metric unit and array dimensions. Dimension names have the same meaning as in the raw EPREM output."
   ]
  },
  {
   "cell_type": "markdown",
   "metadata": {},
   "source": [
    "It is possible to change an observable quantity's unit by calling its `withunit` method:"
   ]
  },
  {
   "cell_type": "code",
   "execution_count": 6,
   "metadata": {},
   "outputs": [
    {
     "name": "stdout",
     "output_type": "stream",
     "text": [
      "m s^-1\n",
      "au d^-1\n",
      "J^-1 s^-1 sr^-1 m^-2\n",
      "MeV^-1 s^-1 sr^-1 cm^-2\n"
     ]
    }
   ],
   "source": [
    "print(stream['vr'].unit)\n",
    "print(stream['vr'].withunit('au / day').unit)\n",
    "print(stream['flux'].unit)\n",
    "print(stream['flux'].withunit('1 / (cm^2 s sr MeV)').unit)"
   ]
  },
  {
   "cell_type": "markdown",
   "metadata": {},
   "source": [
    "An observable quantity supports subscription by standard index types or by \"measurable\" indices. An index is measurable if it contains one or more numeric values followed by a unit-like string."
   ]
  },
  {
   "cell_type": "markdown",
   "metadata": {},
   "source": [
    "This is best illustrated by a concrete example. Let's first pick a particular time in hours and radius in au"
   ]
  },
  {
   "cell_type": "code",
   "execution_count": 7,
   "metadata": {},
   "outputs": [
    {
     "name": "stdout",
     "output_type": "stream",
     "text": [
      "time:\n",
      "[67.2],\n",
      "unit='h',\n",
      "dimensions={'time'}\n",
      "\n",
      "radius:\n",
      "[[1.27798576]],\n",
      "unit='au',\n",
      "dimensions={'time', 'shell'}\n"
     ]
    }
   ],
   "source": [
    "time = stream['time'].withunit('hour')\n",
    "print(f\"time:\\n{time[27]}\\n\")\n",
    "radius = stream['radius'].withunit('au')\n",
    "print(f\"radius:\\n{radius[27, 57]}\")"
   ]
  },
  {
   "cell_type": "markdown",
   "metadata": {},
   "source": [
    "Next, we'll retrieve the observable quantity representing plasma density."
   ]
  },
  {
   "cell_type": "code",
   "execution_count": 8,
   "metadata": {},
   "outputs": [
    {
     "name": "stdout",
     "output_type": "stream",
     "text": [
      "density at fixed time:\n",
      "[[20884873.80632916  5146864.60956498 21476487.84191666]],\n",
      "unit='m^-3',\n",
      "dimensions={'time', 'shell'}\n",
      "\n",
      "density at fixed radius:\n",
      "[[ 5521952.49424706]\n",
      " [ 5146864.60956498]\n",
      " [18721643.43447628]],\n",
      "unit='m^-3',\n",
      "dimensions={'time', 'shell'}\n",
      "\n",
      "density at fixed time and radius:\n",
      "[[5146864.60956498]],\n",
      "unit='m^-3',\n",
      "dimensions={'time', 'shell'}\n"
     ]
    }
   ],
   "source": [
    "rho = stream['rho']\n",
    "print(f\"density at fixed time:\\n{rho[27, 56:59]}\\n\")\n",
    "print(f\"density at fixed radius:\\n{rho[26:29, 57]}\\n\")\n",
    "print(f\"density at fixed time and radius:\\n{rho[27, 57]}\")"
   ]
  },
  {
   "cell_type": "markdown",
   "metadata": {},
   "source": [
    "Finally, we'll create a measured index with value equivalent to our chosen time point and one equivalent to our chosen radius point. When we use the measured indices to subscript the density, we get a value very close to the value of density subscripted with standard indices."
   ]
  },
  {
   "cell_type": "code",
   "execution_count": 9,
   "metadata": {},
   "outputs": [
    {
     "name": "stdout",
     "output_type": "stream",
     "text": [
      "density at (t0, r0):\n",
      "[[5146864.35972748]],\n",
      "unit='m^-3',\n",
      "dimensions={'time', 'radius'}\n",
      "\n"
     ]
    }
   ],
   "source": [
    "t0 = 67.2, 'hour'\n",
    "r0 = 1.27798576, 'au'\n",
    "print(f\"density at (t0, r0):\\n{rho[t0, r0]}\\n\")"
   ]
  },
  {
   "cell_type": "markdown",
   "metadata": {},
   "source": [
    "Each observable quantity has a `plot` method."
   ]
  },
  {
   "cell_type": "code",
   "execution_count": 10,
   "metadata": {},
   "outputs": [
    {
     "data": {
      "image/png": "[encoded data removed]",
      "text/plain": [
       "<Figure size 640x480 with 1 Axes>"
      ]
     },
     "metadata": {},
     "output_type": "display_data"
    }
   ],
   "source": [
    "vr = stream['vr']\n",
    "r0 = 0.5, 'au'\n",
    "vr[:, r0].plot('k')"
   ]
  },
  {
   "cell_type": "markdown",
   "metadata": {},
   "source": [
    "This method is useful for quickly viewing a single quantity. More complex plots require explicit use of a plotting module such as `matplotlib.pyplot`. The following example creates a slightly more complex version of the above plot, and demonstrates use of the `format` method for metric units."
   ]
  },
  {
   "cell_type": "code",
   "execution_count": 11,
   "metadata": {},
   "outputs": [
    {
     "data": {
      "image/png": "[encoded data removed]",
      "text/plain": [
       "<Figure size 640x480 with 1 Axes>"
      ]
     },
     "metadata": {},
     "output_type": "display_data"
    }
   ],
   "source": [
    "import matplotlib.pyplot as plt\n",
    "for r in (0.1, 0.5, 1.0):\n",
    "    plt.plot(time, vr[:, (r, 'au')], label=f\"r = {r} au\")\n",
    "plt.legend()\n",
    "plt.xlabel(f\"Time [{time.unit}]\")\n",
    "plt.ylabel(rf\"$V_r$ [{vr.unit.format(style='tex')}]\")\n",
    "plt.tight_layout()"
   ]
  },
  {
   "cell_type": "markdown",
   "metadata": {},
   "source": [
    "You can print all observable quantities and parameters available to an observer by calling the observer's `which` method."
   ]
  },
  {
   "cell_type": "code",
   "execution_count": 12,
   "metadata": {},
   "outputs": [
    {
     "name": "stdout",
     "output_type": "stream",
     "text": [
      "'phiOffset'\n",
      "'t' == 'time' == 'times'\n",
      "'shells' == 'shell'\n",
      "'pitch-angle' == 'mu' == 'pitch angle' == 'pitch-angle cosine' == 'pitch angles' == 'pitch-angle cosines' == 'pitch-angles'\n",
      "'mass' == 'm'\n",
      "'charge' == 'q'\n",
      "'energies' == 'E' == 'egrid' == 'energy'\n",
      "'vgrid' == 'speed' == 'v'\n",
      "'R' == 'radius' == 'r'\n",
      "'theta' == 'T'\n",
      "'P' == 'phi'\n",
      "'br' == 'Br'\n",
      "'bt' == 'Btheta' == 'btheta' == 'Bt'\n",
      "'bp' == 'Bphi' == 'Bp' == 'bphi'\n",
      "'ur' == 'Ur' == 'vr' == 'Vr'\n",
      "'utheta' == 'Vtheta' == 'Vt' == 'ut' == 'Ut' == 'Utheta'\n",
      "'Uphi' == 'Vp' == 'Vphi' == 'Up' == 'up' == 'uphi'\n",
      "'rho' == 'Rho'\n",
      "'f' == 'Dist' == 'dist'\n",
      "'Flux' == 'j(E)' == 'J' == 'flux' == 'j' == 'J(E)'\n",
      "'x' == 'X'\n",
      "'y' == 'Y'\n",
      "'z' == 'Z'\n",
      "'|b|' == 'b mag' == 'B' == '|B|' == 'b' == 'b_mag' == 'bmag'\n",
      "'|U|' == '|u|' == 'u mag' == 'umag' == 'u_mag' == 'U' == 'u'\n",
      "'u_para' == 'Upara' == 'upara'\n",
      "'uperp' == 'u_perp' == 'Uperp'\n",
      "'flow angle' == 'flow_angle' == 'angle'\n",
      "'divu' == 'div u' == 'divU' == 'div U' == 'div(u)' == 'div(U)' == 'div_u'\n",
      "'Rg' == 'rigidity' == 'R_g'\n",
      "'mfp' == 'mean_free_path' == 'mean free path'\n",
      "'ar' == 'acceleration_rate' == 'acceleration rate'\n",
      "'energy_density' == 'energy density'\n",
      "'average_energy' == 'average energy'\n",
      "'fluence'\n",
      "'integral flux' == 'integral_flux' == 'intflux'\n"
     ]
    }
   ],
   "source": [
    "stream.which('observables')"
   ]
  },
  {
   "cell_type": "code",
   "execution_count": 13,
   "metadata": {},
   "outputs": [
    {
     "name": "stdout",
     "output_type": "stream",
     "text": [
      "'minimum_energy' == 'minimum energy' == 'Emin'\n",
      "'energy0' == 'reference energy'\n",
      "'reference radius' == 'r0'\n",
      "'FailModeDump'\n",
      "'adiabaticChangeAlg'\n",
      "'adiabaticFocusAlg'\n",
      "'aziSunStart'\n",
      "'J0' == 'boundaryFunctAmplitude'\n",
      "'beta' == 'boundaryFunctBeta'\n",
      "'boundaryFunctEcutoff' == 'E0'\n",
      "'gamma' == 'boundaryFunctGamma'\n",
      "'boundaryFunctXi' == 'xi'\n",
      "'boundaryFunctionInitDomain'\n",
      "'charge'\n",
      "'checkSeedPopulation'\n",
      "'dsh_hel_min'\n",
      "'dsh_min'\n",
      "'dumpFreq'\n",
      "'dumpOnAbort'\n",
      "'eMax'\n",
      "'eMin'\n",
      "'epCalcStartTime'\n",
      "'epEquilibriumCalcDuration'\n",
      "'epremDomain'\n",
      "'epremDomainOutputTime'\n",
      "'fieldAligned'\n",
      "'flowMag'\n",
      "'fluxLimiter'\n",
      "'focusingLimit'\n",
      "'gammaEhigh'\n",
      "'gammaElow'\n",
      "'idealShock'\n",
      "'idealShockFalloff'\n",
      "'idealShockInitTime'\n",
      "'idealShockJump'\n",
      "'idealShockPhi'\n",
      "'idealShockScaleLength'\n",
      "'idealShockSharpness'\n",
      "'idealShockSpeed'\n",
      "'idealShockTheta'\n",
      "'idealShockWidth'\n",
      "'idw_p'\n",
      "'kper/kpar' == 'kperxkpar' == 'kper_kpar' == 'kper / kpar'\n",
      "'lamo' == 'lam0' == 'lambda0'\n",
      "'mass'\n",
      "'mfp_radial_power' == 'mfpRadialPower'\n",
      "'mhdBAu'\n",
      "'mhdDensityAu'\n",
      "'minInjectionEnergy'\n",
      "'numColumnsPerFace'\n",
      "'numEnergySteps'\n",
      "'numEpSteps'\n",
      "'numMuSteps'\n",
      "'numNodesPerStream'\n",
      "'numObservers'\n",
      "'numRowsPerFace'\n",
      "'numSpecies'\n",
      "'obsPhi'\n",
      "'obsR'\n",
      "'obsTheta'\n",
      "'omegaSun'\n",
      "'outputFloat'\n",
      "'outputRestart'\n",
      "'parallelFlow'\n",
      "'pointObserverOutput'\n",
      "'pointObserverOutputTime'\n",
      "'preEruptionDuration'\n",
      "'rScale'\n",
      "'rigidity_power' == 'rigidityPower'\n",
      "'saveRestartFile'\n",
      "'seedFunctionTest'\n",
      "'shockDetectPercent'\n",
      "'shockInjectionFactor'\n",
      "'shockSolver'\n",
      "'simStartTime'\n",
      "'simStopTime'\n",
      "'streamFluxOutput'\n",
      "'streamFluxOutputTime'\n",
      "'subTimeCouple'\n",
      "'tDel'\n",
      "'unifiedOutput'\n",
      "'unifiedOutputTime'\n",
      "'unstructuredDomain'\n",
      "'unstructuredDomainOutputTime'\n",
      "'useAdiabaticChange'\n",
      "'useAdiabaticFocus'\n",
      "'useBoundaryFunction'\n",
      "'useDrift'\n",
      "'useEPBoundary'\n",
      "'useParallelDiffusion'\n",
      "'useShellDiffusion'\n",
      "'useStochastic'\n",
      "'warningsFile'\n"
     ]
    }
   ],
   "source": [
    "stream.which('parameters')"
   ]
  }
 ],
 "metadata": {
  "kernelspec": {
   "display_name": "eprempy",
   "language": "python",
   "name": "python3"
  },
  "language_info": {
   "codemirror_mode": {
    "name": "ipython",
    "version": 3
   },
   "file_extension": ".py",
   "mimetype": "text/x-python",
   "name": "python",
   "nbconvert_exporter": "python",
   "pygments_lexer": "ipython3",
   "version": "3.11.6"
  }
 },
 "nbformat": 4,
 "nbformat_minor": 2
}
