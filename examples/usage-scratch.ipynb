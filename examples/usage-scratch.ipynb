{
 "cells": [
  {
   "cell_type": "markdown",
   "metadata": {},
   "source": [
    "# Usage Examples\n",
    "\n",
    "The purpose of this notebook is to record functional `eprempy` usage examples without spending too much time on the supporting descriptions. Portions of this notebook may turn into more fully fledged documentation elsewhere (e.g., `README.md`). It is not meant to act as a stand-alone tutorial."
   ]
  },
  {
   "cell_type": "code",
   "execution_count": 2,
   "metadata": {},
   "outputs": [],
   "source": [
    "from eprempy import eprem\n",
    "\n",
    "stream = eprem.stream(4, source='data/with-dist/')"
   ]
  },
  {
   "cell_type": "code",
   "execution_count": 3,
   "metadata": {},
   "outputs": [
    {
     "data": {
      "text/plain": [
       "PosixPath('/home/matthew/emmrem/open/source/eprempy/tests/data/isotropic-shock-with-dist')"
      ]
     },
     "execution_count": 3,
     "metadata": {},
     "output_type": "execute_result"
    }
   ],
   "source": [
    "stream.source"
   ]
  },
  {
   "cell_type": "code",
   "execution_count": 4,
   "metadata": {},
   "outputs": [
    {
     "data": {
      "text/plain": [
       "'obs000004.nc'"
      ]
     },
     "execution_count": 4,
     "metadata": {},
     "output_type": "execute_result"
    }
   ],
   "source": [
    "stream.dataset.source.name"
   ]
  },
  {
   "cell_type": "code",
   "execution_count": 5,
   "metadata": {},
   "outputs": [
    {
     "data": {
      "text/plain": [
       "True"
      ]
     },
     "execution_count": 5,
     "metadata": {},
     "output_type": "execute_result"
    }
   ],
   "source": [
    "stream.dataset.source == stream.source / stream.dataset.source.name"
   ]
  },
  {
   "cell_type": "code",
   "execution_count": 6,
   "metadata": {},
   "outputs": [
    {
     "data": {
      "text/plain": [
       "'eprem.cfg'"
      ]
     },
     "execution_count": 6,
     "metadata": {},
     "output_type": "execute_result"
    }
   ],
   "source": [
    "stream.config.source.name"
   ]
  },
  {
   "cell_type": "code",
   "execution_count": 7,
   "metadata": {},
   "outputs": [
    {
     "data": {
      "text/plain": [
       "True"
      ]
     },
     "execution_count": 7,
     "metadata": {},
     "output_type": "execute_result"
    }
   ],
   "source": [
    "stream.config.source == stream.source / stream.config.source.name"
   ]
  },
  {
   "cell_type": "code",
   "execution_count": 8,
   "metadata": {},
   "outputs": [
    {
     "name": "stdout",
     "output_type": "stream",
     "text": [
      "'phiOffset'\n",
      "'t' == 'time' == 'times'\n",
      "'shells' == 'shell'\n",
      "'pitch angle' == 'pitch angles' == 'pitch-angle cosines' == 'pitch-angle' == 'pitch-angle cosine' == 'pitch-angles' == 'mu'\n",
      "'mass' == 'm'\n",
      "'q' == 'charge'\n",
      "'energy' == 'energies' == 'egrid' == 'E'\n",
      "'speed' == 'vgrid' == 'v'\n",
      "'r' == 'R' == 'radius'\n",
      "'theta' == 'T'\n",
      "'P' == 'phi'\n",
      "'br' == 'Br'\n",
      "'btheta' == 'Btheta' == 'Bt' == 'bt'\n",
      "'bphi' == 'Bp' == 'Bphi' == 'bp'\n",
      "'vr' == 'Vr' == 'Ur' == 'ur'\n",
      "'utheta' == 'Ut' == 'ut' == 'Vtheta' == 'Utheta' == 'Vt'\n",
      "'Uphi' == 'Vp' == 'Up' == 'up' == 'uphi' == 'Vphi'\n",
      "'Rho' == 'rho'\n",
      "'f' == 'dist' == 'Dist'\n",
      "'Flux' == 'j(E)' == 'J(E)' == 'j' == 'flux' == 'J'\n",
      "'x' == 'X'\n",
      "'y' == 'Y'\n",
      "'Z' == 'z'\n",
      "'|B|' == 'b_mag' == '|b|' == 'b' == 'B' == 'b mag' == 'bmag'\n",
      "'|U|' == 'U' == 'u_mag' == 'u mag' == 'u' == 'umag' == '|u|'\n",
      "'u_para' == 'Upara' == 'upara'\n",
      "'Uperp' == 'u_perp' == 'uperp'\n",
      "'flow angle' == 'flow_angle' == 'angle'\n",
      "'div u' == 'div(U)' == 'div(u)' == 'divu' == 'div_u' == 'div U' == 'divU'\n",
      "'rigidity' == 'Rg' == 'R_g'\n",
      "'mean_free_path' == 'mean free path' == 'mfp'\n",
      "'acceleration_rate' == 'ar' == 'acceleration rate'\n",
      "'energy density' == 'energy_density'\n",
      "'average_energy' == 'average energy'\n",
      "'fluence'\n",
      "'integral_flux' == 'integral flux' == 'intflux'\n"
     ]
    }
   ],
   "source": [
    "stream.which('observables')"
   ]
  },
  {
   "cell_type": "code",
   "execution_count": 9,
   "metadata": {},
   "outputs": [
    {
     "name": "stdout",
     "output_type": "stream",
     "text": [
      "True\n",
      "True\n",
      "True\n"
     ]
    }
   ],
   "source": [
    "for alias in ('Vr', 'ur', 'Ur'):\n",
    "    print(stream['vr'] == stream[alias])"
   ]
  },
  {
   "cell_type": "code",
   "execution_count": 10,
   "metadata": {},
   "outputs": [
    {
     "data": {
      "text/plain": [
       "Quantity(unit='m s^-1', dimensions={'time', 'shell'})"
      ]
     },
     "execution_count": 10,
     "metadata": {},
     "output_type": "execute_result"
    }
   ],
   "source": [
    "stream['vr']"
   ]
  },
  {
   "cell_type": "code",
   "execution_count": 11,
   "metadata": {},
   "outputs": [
    {
     "data": {
      "text/plain": [
       "Array([[300000.]],\n",
       "unit='m s^-1',\n",
       "dimensions={'time', 'shell'})"
      ]
     },
     "execution_count": 11,
     "metadata": {},
     "output_type": "execute_result"
    }
   ],
   "source": [
    "vr = stream['vr']\n",
    "vr[0, 0]"
   ]
  },
  {
   "cell_type": "code",
   "execution_count": 12,
   "metadata": {},
   "outputs": [
    {
     "data": {
      "text/plain": [
       "Array([[0.1732645]],\n",
       "unit='au d^-1',\n",
       "dimensions={'time', 'shell'})"
      ]
     },
     "execution_count": 12,
     "metadata": {},
     "output_type": "execute_result"
    }
   ],
   "source": [
    "vr_au_day = stream['vr'].withunit('au / day')\n",
    "vr_au_day[0, 0]"
   ]
  },
  {
   "cell_type": "code",
   "execution_count": 13,
   "metadata": {},
   "outputs": [
    {
     "name": "stdout",
     "output_type": "stream",
     "text": [
      "'minimum energy' == 'minimum_energy' == 'Emin'\n",
      "'energy0' == 'reference energy'\n",
      "'reference radius' == 'r0'\n",
      "'FailModeDump'\n",
      "'adiabaticChangeAlg'\n",
      "'adiabaticFocusAlg'\n",
      "'aziSunStart'\n",
      "'J0' == 'boundaryFunctAmplitude'\n",
      "'beta' == 'boundaryFunctBeta'\n",
      "'boundaryFunctEcutoff' == 'E0'\n",
      "'gamma' == 'boundaryFunctGamma'\n",
      "'boundaryFunctXi' == 'xi'\n",
      "'boundaryFunctionInitDomain'\n",
      "'charge'\n",
      "'checkSeedPopulation'\n",
      "'dsh_hel_min'\n",
      "'dsh_min'\n",
      "'dumpFreq'\n",
      "'dumpOnAbort'\n",
      "'eMax'\n",
      "'eMin'\n",
      "'epCalcStartTime'\n",
      "'epEquilibriumCalcDuration'\n",
      "'epremDomain'\n",
      "'epremDomainOutputTime'\n",
      "'fieldAligned'\n",
      "'flowMag'\n",
      "'fluxLimiter'\n",
      "'focusingLimit'\n",
      "'gammaEhigh'\n",
      "'gammaElow'\n",
      "'idealShock'\n",
      "'idealShockFalloff'\n",
      "'idealShockInitTime'\n",
      "'idealShockJump'\n",
      "'idealShockPhi'\n",
      "'idealShockScaleLength'\n",
      "'idealShockSharpness'\n",
      "'idealShockSpeed'\n",
      "'idealShockTheta'\n",
      "'idealShockWidth'\n",
      "'idw_p'\n",
      "'kperxkpar' == 'kper/kpar' == 'kper_kpar' == 'kper / kpar'\n",
      "'lambda0' == 'lamo' == 'lam0'\n",
      "'mass'\n",
      "'mfp_radial_power' == 'mfpRadialPower'\n",
      "'mhdBAu'\n",
      "'mhdDensityAu'\n",
      "'minInjectionEnergy'\n",
      "'numColumnsPerFace'\n",
      "'numEnergySteps'\n",
      "'numEpSteps'\n",
      "'numMuSteps'\n",
      "'numNodesPerStream'\n",
      "'numObservers'\n",
      "'numRowsPerFace'\n",
      "'numSpecies'\n",
      "'obsPhi'\n",
      "'obsR'\n",
      "'obsTheta'\n",
      "'omegaSun'\n",
      "'outputFloat'\n",
      "'outputRestart'\n",
      "'parallelFlow'\n",
      "'pointObserverOutput'\n",
      "'pointObserverOutputTime'\n",
      "'preEruptionDuration'\n",
      "'rScale'\n",
      "'rigidityPower' == 'rigidity_power'\n",
      "'saveRestartFile'\n",
      "'seedFunctionTest'\n",
      "'shockDetectPercent'\n",
      "'shockInjectionFactor'\n",
      "'shockSolver'\n",
      "'simStartTime'\n",
      "'simStopTime'\n",
      "'streamFluxOutput'\n",
      "'streamFluxOutputTime'\n",
      "'subTimeCouple'\n",
      "'tDel'\n",
      "'unifiedOutput'\n",
      "'unifiedOutputTime'\n",
      "'unstructuredDomain'\n",
      "'unstructuredDomainOutputTime'\n",
      "'useAdiabaticChange'\n",
      "'useAdiabaticFocus'\n",
      "'useBoundaryFunction'\n",
      "'useDrift'\n",
      "'useEPBoundary'\n",
      "'useParallelDiffusion'\n",
      "'useShellDiffusion'\n",
      "'useStochastic'\n",
      "'warningsFile'\n"
     ]
    }
   ],
   "source": [
    "stream.which('parameters')"
   ]
  },
  {
   "cell_type": "code",
   "execution_count": 14,
   "metadata": {},
   "outputs": [
    {
     "name": "stdout",
     "output_type": "stream",
     "text": [
      "True\n",
      "True\n"
     ]
    }
   ],
   "source": [
    "for alias in ('lamo', 'lam0'):\n",
    "    print(stream['lambda0'] == stream[alias])"
   ]
  },
  {
   "cell_type": "code",
   "execution_count": 15,
   "metadata": {},
   "outputs": [
    {
     "data": {
      "text/plain": [
       "Variable([1.], unit='au')"
      ]
     },
     "execution_count": 15,
     "metadata": {},
     "output_type": "execute_result"
    }
   ],
   "source": [
    "stream['lambda0']"
   ]
  },
  {
   "cell_type": "code",
   "execution_count": 16,
   "metadata": {},
   "outputs": [
    {
     "data": {
      "text/plain": [
       "Variable([1.49597871e+13], unit='cm')"
      ]
     },
     "execution_count": 16,
     "metadata": {},
     "output_type": "execute_result"
    }
   ],
   "source": [
    "stream['lambda0'].withunit('cm')"
   ]
  },
  {
   "cell_type": "code",
   "execution_count": 17,
   "metadata": {},
   "outputs": [],
   "source": [
    "flux = stream['flux'].withunit('1 / (cm^2 s sr MeV/nuc)')"
   ]
  },
  {
   "cell_type": "code",
   "execution_count": 18,
   "metadata": {},
   "outputs": [
    {
     "data": {
      "text/plain": [
       "Array([[[[1519.18600383]]]],\n",
       "unit='nuc MeV^-1 s^-1 sr^-1 cm^-2',\n",
       "dimensions={'time', 'radius', 'species', 'energy'})"
      ]
     },
     "execution_count": 18,
     "metadata": {},
     "output_type": "execute_result"
    }
   ],
   "source": [
    "t0 = 7.2, 'hour'\n",
    "r0 = 0.3, 'au'\n",
    "p0 = 'H+'\n",
    "e0 = 1.4, 'MeV'\n",
    "flux[t0, r0, p0, e0]"
   ]
  },
  {
   "cell_type": "code",
   "execution_count": 19,
   "metadata": {},
   "outputs": [
    {
     "data": {
      "text/plain": [
       "Array([7.2],\n",
       "unit='h',\n",
       "dimensions={'time'})"
      ]
     },
     "execution_count": 19,
     "metadata": {},
     "output_type": "execute_result"
    }
   ],
   "source": [
    "time = stream['time'].withunit('hour')\n",
    "time[2]"
   ]
  },
  {
   "cell_type": "code",
   "execution_count": 20,
   "metadata": {},
   "outputs": [
    {
     "data": {
      "text/plain": [
       "Array([[0.29920212]],\n",
       "unit='au',\n",
       "dimensions={'time', 'shell'})"
      ]
     },
     "execution_count": 20,
     "metadata": {},
     "output_type": "execute_result"
    }
   ],
   "source": [
    "radius = stream['radius'].withunit('au')\n",
    "radius[2, 17]"
   ]
  },
  {
   "cell_type": "code",
   "execution_count": 21,
   "metadata": {},
   "outputs": [
    {
     "data": {
      "text/plain": [
       "Array([1.40014911],\n",
       "unit='MeV',\n",
       "dimensions={'energy'})"
      ]
     },
     "execution_count": 21,
     "metadata": {},
     "output_type": "execute_result"
    }
   ],
   "source": [
    "energy = stream['energy'].withunit('MeV')\n",
    "energy[11]"
   ]
  },
  {
   "cell_type": "code",
   "execution_count": 22,
   "metadata": {},
   "outputs": [
    {
     "data": {
      "text/plain": [
       "Array([[[[1519.01378213]]]],\n",
       "unit='nuc MeV^-1 s^-1 sr^-1 cm^-2',\n",
       "dimensions={'time', 'shell', 'species', 'energy'})"
      ]
     },
     "execution_count": 22,
     "metadata": {},
     "output_type": "execute_result"
    }
   ],
   "source": [
    "flux[2, 17, 0, 11]"
   ]
  }
 ],
 "metadata": {
  "kernelspec": {
   "display_name": "eprempy",
   "language": "python",
   "name": "python3"
  },
  "language_info": {
   "codemirror_mode": {
    "name": "ipython",
    "version": 3
   },
   "file_extension": ".py",
   "mimetype": "text/x-python",
   "name": "python",
   "nbconvert_exporter": "python",
   "pygments_lexer": "ipython3",
   "version": "3.11.6"
  }
 },
 "nbformat": 4,
 "nbformat_minor": 2
}
