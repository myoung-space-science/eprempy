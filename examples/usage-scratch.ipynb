{
 "cells": [
  {
   "cell_type": "markdown",
   "metadata": {},
   "source": [
    "# Usage Examples\n",
    "\n",
    "The purpose of this notebook is to record functional `eprempy` usage examples without spending too much time on the supporting descriptions. Portions of this notebook may turn into more fully fledged documentation elsewhere (e.g., `README.md`). It is not meant to act as a stand-alone tutorial."
   ]
  },
  {
   "cell_type": "code",
   "execution_count": 36,
   "metadata": {},
   "outputs": [],
   "source": [
    "from eprempy import eprem\n",
    "\n",
    "stream = eprem.stream(4, source='data/with-dist/')"
   ]
  },
  {
   "cell_type": "code",
   "execution_count": 37,
   "metadata": {},
   "outputs": [
    {
     "data": {
      "text/plain": [
       "PosixPath('/home/matthew/emmrem/open/source/eprempy/tests/data/isotropic-shock-with-dist')"
      ]
     },
     "execution_count": 37,
     "metadata": {},
     "output_type": "execute_result"
    }
   ],
   "source": [
    "stream.source"
   ]
  },
  {
   "cell_type": "code",
   "execution_count": 38,
   "metadata": {},
   "outputs": [
    {
     "data": {
      "text/plain": [
       "'obs000004.nc'"
      ]
     },
     "execution_count": 38,
     "metadata": {},
     "output_type": "execute_result"
    }
   ],
   "source": [
    "stream.dataset.source.name"
   ]
  },
  {
   "cell_type": "code",
   "execution_count": 39,
   "metadata": {},
   "outputs": [
    {
     "data": {
      "text/plain": [
       "True"
      ]
     },
     "execution_count": 39,
     "metadata": {},
     "output_type": "execute_result"
    }
   ],
   "source": [
    "stream.dataset.source == stream.source / stream.dataset.source.name"
   ]
  },
  {
   "cell_type": "code",
   "execution_count": 40,
   "metadata": {},
   "outputs": [
    {
     "data": {
      "text/plain": [
       "'eprem.cfg'"
      ]
     },
     "execution_count": 40,
     "metadata": {},
     "output_type": "execute_result"
    }
   ],
   "source": [
    "stream.config.source.name"
   ]
  },
  {
   "cell_type": "code",
   "execution_count": 41,
   "metadata": {},
   "outputs": [
    {
     "data": {
      "text/plain": [
       "True"
      ]
     },
     "execution_count": 41,
     "metadata": {},
     "output_type": "execute_result"
    }
   ],
   "source": [
    "stream.config.source == stream.source / stream.config.source.name"
   ]
  },
  {
   "cell_type": "code",
   "execution_count": 42,
   "metadata": {},
   "outputs": [
    {
     "name": "stdout",
     "output_type": "stream",
     "text": [
      "'phiOffset'\n",
      "'times' == 't' == 'time'\n",
      "'shell' == 'shells'\n",
      "'pitch-angle' == 'pitch-angles' == 'pitch angle' == 'mu' == 'pitch angles' == 'pitch-angle cosine' == 'pitch-angle cosines'\n",
      "'m' == 'mass'\n",
      "'q' == 'charge'\n",
      "'energy' == 'E' == 'egrid' == 'energies'\n",
      "'speed' == 'vgrid' == 'v'\n",
      "'R' == 'r' == 'radius'\n",
      "'T' == 'theta'\n",
      "'phi' == 'P'\n",
      "'br' == 'Br'\n",
      "'Btheta' == 'btheta' == 'Bt' == 'bt'\n",
      "'Bphi' == 'Bp' == 'bphi' == 'bp'\n",
      "'Vr' == 'Ur' == 'ur' == 'vr'\n",
      "'ut' == 'Ut' == 'Vtheta' == 'utheta' == 'Utheta' == 'Vt'\n",
      "'Vp' == 'up' == 'Up' == 'Uphi' == 'Vphi' == 'uphi'\n",
      "'rho' == 'Rho'\n",
      "'dist' == 'f' == 'Dist'\n",
      "'flux' == 'j(E)' == 'J' == 'Flux' == 'j' == 'J(E)'\n",
      "'x' == 'X'\n",
      "'Y' == 'y'\n",
      "'Z' == 'z'\n",
      "'b_mag' == '|b|' == '|B|' == 'B' == 'b mag' == 'bmag' == 'b'\n",
      "'u_mag' == 'U' == '|U|' == 'u' == 'u mag' == '|u|' == 'umag'\n",
      "'u_para' == 'upara' == 'Upara'\n",
      "'Uperp' == 'u_perp' == 'uperp'\n",
      "'angle' == 'flow angle' == 'flow_angle'\n",
      "'div(U)' == 'divU' == 'divu' == 'div_u' == 'div(u)' == 'div u' == 'div U'\n",
      "'Rg' == 'rigidity' == 'R_g'\n",
      "'mean_free_path' == 'mfp' == 'mean free path'\n",
      "'acceleration_rate' == 'acceleration rate' == 'ar'\n",
      "'energy_density' == 'energy density'\n",
      "'average energy' == 'average_energy'\n",
      "'fluence'\n",
      "'integral_flux' == 'intflux' == 'integral flux'\n"
     ]
    }
   ],
   "source": [
    "stream.which('observables')"
   ]
  },
  {
   "cell_type": "code",
   "execution_count": 43,
   "metadata": {},
   "outputs": [
    {
     "name": "stdout",
     "output_type": "stream",
     "text": [
      "True\n",
      "True\n",
      "True\n"
     ]
    }
   ],
   "source": [
    "for alias in ('Vr', 'ur', 'Ur'):\n",
    "    print(stream['vr'] == stream[alias])"
   ]
  },
  {
   "cell_type": "code",
   "execution_count": 44,
   "metadata": {},
   "outputs": [
    {
     "data": {
      "text/plain": [
       "Quantity(unit='m s^-1', dimensions={'time', 'shell'})"
      ]
     },
     "execution_count": 44,
     "metadata": {},
     "output_type": "execute_result"
    }
   ],
   "source": [
    "stream['vr']"
   ]
  },
  {
   "cell_type": "code",
   "execution_count": 45,
   "metadata": {},
   "outputs": [
    {
     "data": {
      "text/plain": [
       "Array([[300000.]],\n",
       "unit='m s^-1',\n",
       "dimensions={'time', 'shell'})"
      ]
     },
     "execution_count": 45,
     "metadata": {},
     "output_type": "execute_result"
    }
   ],
   "source": [
    "vr = stream['vr']\n",
    "vr[0, 0]"
   ]
  },
  {
   "cell_type": "code",
   "execution_count": 46,
   "metadata": {},
   "outputs": [
    {
     "data": {
      "text/plain": [
       "Array([[0.1732645]],\n",
       "unit='au d^-1',\n",
       "dimensions={'time', 'shell'})"
      ]
     },
     "execution_count": 46,
     "metadata": {},
     "output_type": "execute_result"
    }
   ],
   "source": [
    "vr_au_day = stream['vr'].withunit('au / day')\n",
    "vr_au_day[0, 0]"
   ]
  },
  {
   "cell_type": "code",
   "execution_count": 47,
   "metadata": {},
   "outputs": [
    {
     "name": "stdout",
     "output_type": "stream",
     "text": [
      "'Emin' == 'minimum_energy' == 'minimum energy'\n",
      "'reference energy' == 'energy0'\n",
      "'reference radius' == 'r0'\n",
      "'FailModeDump'\n",
      "'adiabaticChangeAlg'\n",
      "'adiabaticFocusAlg'\n",
      "'aziSunStart'\n",
      "'boundaryFunctAmplitude' == 'J0'\n",
      "'beta' == 'boundaryFunctBeta'\n",
      "'boundaryFunctEcutoff' == 'E0'\n",
      "'boundaryFunctGamma' == 'gamma'\n",
      "'xi' == 'boundaryFunctXi'\n",
      "'boundaryFunctionInitDomain'\n",
      "'charge'\n",
      "'checkSeedPopulation'\n",
      "'dsh_hel_min'\n",
      "'dsh_min'\n",
      "'dumpFreq'\n",
      "'dumpOnAbort'\n",
      "'eMax'\n",
      "'eMin'\n",
      "'epCalcStartTime'\n",
      "'epEquilibriumCalcDuration'\n",
      "'epremDomain'\n",
      "'epremDomainOutputTime'\n",
      "'fieldAligned'\n",
      "'flowMag'\n",
      "'fluxLimiter'\n",
      "'focusingLimit'\n",
      "'gammaEhigh'\n",
      "'gammaElow'\n",
      "'idealShock'\n",
      "'idealShockFalloff'\n",
      "'idealShockInitTime'\n",
      "'idealShockJump'\n",
      "'idealShockPhi'\n",
      "'idealShockScaleLength'\n",
      "'idealShockSharpness'\n",
      "'idealShockSpeed'\n",
      "'idealShockTheta'\n",
      "'idealShockWidth'\n",
      "'idw_p'\n",
      "'kper / kpar' == 'kper_kpar' == 'kper/kpar' == 'kperxkpar'\n",
      "'lamo' == 'lam0' == 'lambda0'\n",
      "'mass'\n",
      "'mfpRadialPower' == 'mfp_radial_power'\n",
      "'mhdBAu'\n",
      "'mhdDensityAu'\n",
      "'minInjectionEnergy'\n",
      "'numColumnsPerFace'\n",
      "'numEnergySteps'\n",
      "'numEpSteps'\n",
      "'numMuSteps'\n",
      "'numNodesPerStream'\n",
      "'numObservers'\n",
      "'numRowsPerFace'\n",
      "'numSpecies'\n",
      "'obsPhi'\n",
      "'obsR'\n",
      "'obsTheta'\n",
      "'omegaSun'\n",
      "'outputFloat'\n",
      "'outputRestart'\n",
      "'parallelFlow'\n",
      "'pointObserverOutput'\n",
      "'pointObserverOutputTime'\n",
      "'preEruptionDuration'\n",
      "'rScale'\n",
      "'rigidity_power' == 'rigidityPower'\n",
      "'saveRestartFile'\n",
      "'seedFunctionTest'\n",
      "'shockDetectPercent'\n",
      "'shockInjectionFactor'\n",
      "'shockSolver'\n",
      "'simStartTime'\n",
      "'simStopTime'\n",
      "'streamFluxOutput'\n",
      "'streamFluxOutputTime'\n",
      "'subTimeCouple'\n",
      "'tDel'\n",
      "'unifiedOutput'\n",
      "'unifiedOutputTime'\n",
      "'unstructuredDomain'\n",
      "'unstructuredDomainOutputTime'\n",
      "'useAdiabaticChange'\n",
      "'useAdiabaticFocus'\n",
      "'useBoundaryFunction'\n",
      "'useDrift'\n",
      "'useEPBoundary'\n",
      "'useParallelDiffusion'\n",
      "'useShellDiffusion'\n",
      "'useStochastic'\n",
      "'warningsFile'\n"
     ]
    }
   ],
   "source": [
    "stream.which('parameters')"
   ]
  },
  {
   "cell_type": "code",
   "execution_count": 48,
   "metadata": {},
   "outputs": [
    {
     "name": "stdout",
     "output_type": "stream",
     "text": [
      "True\n",
      "True\n"
     ]
    }
   ],
   "source": [
    "for alias in ('lamo', 'lam0'):\n",
    "    print(stream['lambda0'] == stream[alias])"
   ]
  },
  {
   "cell_type": "code",
   "execution_count": 49,
   "metadata": {},
   "outputs": [
    {
     "data": {
      "text/plain": [
       "Variable([1.], unit='au')"
      ]
     },
     "execution_count": 49,
     "metadata": {},
     "output_type": "execute_result"
    }
   ],
   "source": [
    "stream['lambda0']"
   ]
  },
  {
   "cell_type": "code",
   "execution_count": 50,
   "metadata": {},
   "outputs": [
    {
     "data": {
      "text/plain": [
       "Variable([1.49597871e+13], unit='cm')"
      ]
     },
     "execution_count": 50,
     "metadata": {},
     "output_type": "execute_result"
    }
   ],
   "source": [
    "stream['lambda0'].withunit('cm')"
   ]
  },
  {
   "cell_type": "code",
   "execution_count": 51,
   "metadata": {},
   "outputs": [],
   "source": [
    "flux = stream['flux'].withunit('1 / (cm^2 s sr MeV/nuc)')"
   ]
  },
  {
   "cell_type": "code",
   "execution_count": 63,
   "metadata": {},
   "outputs": [
    {
     "data": {
      "text/plain": [
       "Array([[[[1519.18600383]]]],\n",
       "unit='nuc MeV^-1 s^-1 sr^-1 cm^-2',\n",
       "dimensions={'time', 'radius', 'species', 'energy'})"
      ]
     },
     "execution_count": 63,
     "metadata": {},
     "output_type": "execute_result"
    }
   ],
   "source": [
    "t0 = 7.2, 'hour'\n",
    "r0 = 0.3, 'au'\n",
    "p0 = 'H+'\n",
    "e0 = 1.4, 'MeV'\n",
    "flux[t0, r0, p0, e0]"
   ]
  },
  {
   "cell_type": "code",
   "execution_count": 64,
   "metadata": {},
   "outputs": [
    {
     "data": {
      "text/plain": [
       "Array([7.2],\n",
       "unit='h',\n",
       "dimensions={'time'})"
      ]
     },
     "execution_count": 64,
     "metadata": {},
     "output_type": "execute_result"
    }
   ],
   "source": [
    "time = stream['time'].withunit('hour')\n",
    "time[2]"
   ]
  },
  {
   "cell_type": "code",
   "execution_count": 65,
   "metadata": {},
   "outputs": [
    {
     "data": {
      "text/plain": [
       "Array([[0.29920212]],\n",
       "unit='au',\n",
       "dimensions={'time', 'shell'})"
      ]
     },
     "execution_count": 65,
     "metadata": {},
     "output_type": "execute_result"
    }
   ],
   "source": [
    "radius = stream['radius'].withunit('au')\n",
    "radius[2, 17]"
   ]
  },
  {
   "cell_type": "code",
   "execution_count": 66,
   "metadata": {},
   "outputs": [
    {
     "data": {
      "text/plain": [
       "Array([1.40014911],\n",
       "unit='MeV',\n",
       "dimensions={'energy'})"
      ]
     },
     "execution_count": 66,
     "metadata": {},
     "output_type": "execute_result"
    }
   ],
   "source": [
    "energy = stream['energy'].withunit('MeV')\n",
    "energy[11]"
   ]
  },
  {
   "cell_type": "code",
   "execution_count": 67,
   "metadata": {},
   "outputs": [
    {
     "data": {
      "text/plain": [
       "Array([[[[1519.01378213]]]],\n",
       "unit='nuc MeV^-1 s^-1 sr^-1 cm^-2',\n",
       "dimensions={'time', 'shell', 'species', 'energy'})"
      ]
     },
     "execution_count": 67,
     "metadata": {},
     "output_type": "execute_result"
    }
   ],
   "source": [
    "flux[2, 17, 0, 11]"
   ]
  }
 ],
 "metadata": {
  "kernelspec": {
   "display_name": "eprempy",
   "language": "python",
   "name": "python3"
  },
  "language_info": {
   "codemirror_mode": {
    "name": "ipython",
    "version": 3
   },
   "file_extension": ".py",
   "mimetype": "text/x-python",
   "name": "python",
   "nbconvert_exporter": "python",
   "pygments_lexer": "ipython3",
   "version": "3.11.6"
  }
 },
 "nbformat": 4,
 "nbformat_minor": 2
}
